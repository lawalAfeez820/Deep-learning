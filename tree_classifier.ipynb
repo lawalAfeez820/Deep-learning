{
  "nbformat": 4,
  "nbformat_minor": 0,
  "metadata": {
    "colab": {
      "name": "tree classifier.ipynb",
      "provenance": [],
      "authorship_tag": "ABX9TyO7Py/U2saPJ/5/Qq5SoGS6",
      "include_colab_link": true
    },
    "kernelspec": {
      "name": "python3",
      "display_name": "Python 3"
    },
    "language_info": {
      "name": "python"
    },
    "accelerator": "GPU"
  },
  "cells": [
    {
      "cell_type": "markdown",
      "metadata": {
        "id": "view-in-github",
        "colab_type": "text"
      },
      "source": [
        "<a href=\"https://colab.research.google.com/github/lawalAfeez820/Deep-learning/blob/main/tree_classifier.ipynb\" target=\"_parent\"><img src=\"https://colab.research.google.com/assets/colab-badge.svg\" alt=\"Open In Colab\"/></a>"
      ]
    },
    {
      "cell_type": "code",
      "execution_count": null,
      "metadata": {
        "id": "k7YYP-ECyEKo"
      },
      "outputs": [],
      "source": [
        "# libraries\n",
        "import pandas as pd\n",
        "from keras.models import Sequential\n",
        "from keras.layers import Dense\n",
        "from keras.layers import LeakyReLU,ELU,ReLU\n",
        "from sklearn.model_selection import train_test_split\n",
        "from sklearn.metrics import roc_auc_score,confusion_matrix,accuracy_score\n",
        "import numpy as np\n",
        "import matplotlib.pyplot as plt\n",
        "\n",
        "\n"
      ]
    },
    {
      "cell_type": "markdown",
      "source": [
        "# New Section"
      ],
      "metadata": {
        "id": "J4QnZGVJznBS"
      }
    },
    {
      "cell_type": "code",
      "source": [
        "# loading and reading the dataset\n",
        "df_target=pd.read_csv(\"/content/tree_class_target.csv\")\n",
        "df_feature=pd.read_csv(\"/content/tree_class_feats.csv\")"
      ],
      "metadata": {
        "id": "sv2O09qG0G_z"
      },
      "execution_count": null,
      "outputs": []
    },
    {
      "cell_type": "code",
      "source": [
        "df_feature.head()"
      ],
      "metadata": {
        "colab": {
          "base_uri": "https://localhost:8080/",
          "height": 206
        },
        "id": "zbJY7sRX0tPF",
        "outputId": "aceaab9c-5692-4ad0-996a-290bad00b0dc"
      },
      "execution_count": null,
      "outputs": [
        {
          "output_type": "execute_result",
          "data": {
            "text/plain": [
              "   feature 1  feature 2  feature 3  feature 4  feature 5  feature 6  \\\n",
              "0   1.722029  -4.689223  -0.207066   2.498555   2.883010   1.579690   \n",
              "1   0.236202  -2.412059  -2.977042   2.837931   4.201749   0.536090   \n",
              "2   0.592300  -3.678390  -0.282953   0.912839   1.055228   1.235441   \n",
              "3   1.579346  -1.135482   0.734795  -3.840698  -0.362227   2.641352   \n",
              "4  -2.962439   1.754583  -1.145055   1.857364   0.989132   2.567482   \n",
              "\n",
              "   feature 7  feature 8  feature 9  feature 10  \n",
              "0  -2.720014  -1.246192   1.168185    1.400007  \n",
              "1   0.266874  -1.308043   3.728172   -1.198629  \n",
              "2  -3.378884  -1.117221  -0.274793    0.098392  \n",
              "3  -3.080336  -1.728918  -2.738785   -1.061155  \n",
              "4   2.058646  -7.009674  -2.108419    1.437935  "
            ],
            "text/html": [
              "\n",
              "  <div id=\"df-c72db554-d795-4f6b-bba0-f4d5733ad3bc\">\n",
              "    <div class=\"colab-df-container\">\n",
              "      <div>\n",
              "<style scoped>\n",
              "    .dataframe tbody tr th:only-of-type {\n",
              "        vertical-align: middle;\n",
              "    }\n",
              "\n",
              "    .dataframe tbody tr th {\n",
              "        vertical-align: top;\n",
              "    }\n",
              "\n",
              "    .dataframe thead th {\n",
              "        text-align: right;\n",
              "    }\n",
              "</style>\n",
              "<table border=\"1\" class=\"dataframe\">\n",
              "  <thead>\n",
              "    <tr style=\"text-align: right;\">\n",
              "      <th></th>\n",
              "      <th>feature 1</th>\n",
              "      <th>feature 2</th>\n",
              "      <th>feature 3</th>\n",
              "      <th>feature 4</th>\n",
              "      <th>feature 5</th>\n",
              "      <th>feature 6</th>\n",
              "      <th>feature 7</th>\n",
              "      <th>feature 8</th>\n",
              "      <th>feature 9</th>\n",
              "      <th>feature 10</th>\n",
              "    </tr>\n",
              "  </thead>\n",
              "  <tbody>\n",
              "    <tr>\n",
              "      <th>0</th>\n",
              "      <td>1.722029</td>\n",
              "      <td>-4.689223</td>\n",
              "      <td>-0.207066</td>\n",
              "      <td>2.498555</td>\n",
              "      <td>2.883010</td>\n",
              "      <td>1.579690</td>\n",
              "      <td>-2.720014</td>\n",
              "      <td>-1.246192</td>\n",
              "      <td>1.168185</td>\n",
              "      <td>1.400007</td>\n",
              "    </tr>\n",
              "    <tr>\n",
              "      <th>1</th>\n",
              "      <td>0.236202</td>\n",
              "      <td>-2.412059</td>\n",
              "      <td>-2.977042</td>\n",
              "      <td>2.837931</td>\n",
              "      <td>4.201749</td>\n",
              "      <td>0.536090</td>\n",
              "      <td>0.266874</td>\n",
              "      <td>-1.308043</td>\n",
              "      <td>3.728172</td>\n",
              "      <td>-1.198629</td>\n",
              "    </tr>\n",
              "    <tr>\n",
              "      <th>2</th>\n",
              "      <td>0.592300</td>\n",
              "      <td>-3.678390</td>\n",
              "      <td>-0.282953</td>\n",
              "      <td>0.912839</td>\n",
              "      <td>1.055228</td>\n",
              "      <td>1.235441</td>\n",
              "      <td>-3.378884</td>\n",
              "      <td>-1.117221</td>\n",
              "      <td>-0.274793</td>\n",
              "      <td>0.098392</td>\n",
              "    </tr>\n",
              "    <tr>\n",
              "      <th>3</th>\n",
              "      <td>1.579346</td>\n",
              "      <td>-1.135482</td>\n",
              "      <td>0.734795</td>\n",
              "      <td>-3.840698</td>\n",
              "      <td>-0.362227</td>\n",
              "      <td>2.641352</td>\n",
              "      <td>-3.080336</td>\n",
              "      <td>-1.728918</td>\n",
              "      <td>-2.738785</td>\n",
              "      <td>-1.061155</td>\n",
              "    </tr>\n",
              "    <tr>\n",
              "      <th>4</th>\n",
              "      <td>-2.962439</td>\n",
              "      <td>1.754583</td>\n",
              "      <td>-1.145055</td>\n",
              "      <td>1.857364</td>\n",
              "      <td>0.989132</td>\n",
              "      <td>2.567482</td>\n",
              "      <td>2.058646</td>\n",
              "      <td>-7.009674</td>\n",
              "      <td>-2.108419</td>\n",
              "      <td>1.437935</td>\n",
              "    </tr>\n",
              "  </tbody>\n",
              "</table>\n",
              "</div>\n",
              "      <button class=\"colab-df-convert\" onclick=\"convertToInteractive('df-c72db554-d795-4f6b-bba0-f4d5733ad3bc')\"\n",
              "              title=\"Convert this dataframe to an interactive table.\"\n",
              "              style=\"display:none;\">\n",
              "        \n",
              "  <svg xmlns=\"http://www.w3.org/2000/svg\" height=\"24px\"viewBox=\"0 0 24 24\"\n",
              "       width=\"24px\">\n",
              "    <path d=\"M0 0h24v24H0V0z\" fill=\"none\"/>\n",
              "    <path d=\"M18.56 5.44l.94 2.06.94-2.06 2.06-.94-2.06-.94-.94-2.06-.94 2.06-2.06.94zm-11 1L8.5 8.5l.94-2.06 2.06-.94-2.06-.94L8.5 2.5l-.94 2.06-2.06.94zm10 10l.94 2.06.94-2.06 2.06-.94-2.06-.94-.94-2.06-.94 2.06-2.06.94z\"/><path d=\"M17.41 7.96l-1.37-1.37c-.4-.4-.92-.59-1.43-.59-.52 0-1.04.2-1.43.59L10.3 9.45l-7.72 7.72c-.78.78-.78 2.05 0 2.83L4 21.41c.39.39.9.59 1.41.59.51 0 1.02-.2 1.41-.59l7.78-7.78 2.81-2.81c.8-.78.8-2.07 0-2.86zM5.41 20L4 18.59l7.72-7.72 1.47 1.35L5.41 20z\"/>\n",
              "  </svg>\n",
              "      </button>\n",
              "      \n",
              "  <style>\n",
              "    .colab-df-container {\n",
              "      display:flex;\n",
              "      flex-wrap:wrap;\n",
              "      gap: 12px;\n",
              "    }\n",
              "\n",
              "    .colab-df-convert {\n",
              "      background-color: #E8F0FE;\n",
              "      border: none;\n",
              "      border-radius: 50%;\n",
              "      cursor: pointer;\n",
              "      display: none;\n",
              "      fill: #1967D2;\n",
              "      height: 32px;\n",
              "      padding: 0 0 0 0;\n",
              "      width: 32px;\n",
              "    }\n",
              "\n",
              "    .colab-df-convert:hover {\n",
              "      background-color: #E2EBFA;\n",
              "      box-shadow: 0px 1px 2px rgba(60, 64, 67, 0.3), 0px 1px 3px 1px rgba(60, 64, 67, 0.15);\n",
              "      fill: #174EA6;\n",
              "    }\n",
              "\n",
              "    [theme=dark] .colab-df-convert {\n",
              "      background-color: #3B4455;\n",
              "      fill: #D2E3FC;\n",
              "    }\n",
              "\n",
              "    [theme=dark] .colab-df-convert:hover {\n",
              "      background-color: #434B5C;\n",
              "      box-shadow: 0px 1px 3px 1px rgba(0, 0, 0, 0.15);\n",
              "      filter: drop-shadow(0px 1px 2px rgba(0, 0, 0, 0.3));\n",
              "      fill: #FFFFFF;\n",
              "    }\n",
              "  </style>\n",
              "\n",
              "      <script>\n",
              "        const buttonEl =\n",
              "          document.querySelector('#df-c72db554-d795-4f6b-bba0-f4d5733ad3bc button.colab-df-convert');\n",
              "        buttonEl.style.display =\n",
              "          google.colab.kernel.accessAllowed ? 'block' : 'none';\n",
              "\n",
              "        async function convertToInteractive(key) {\n",
              "          const element = document.querySelector('#df-c72db554-d795-4f6b-bba0-f4d5733ad3bc');\n",
              "          const dataTable =\n",
              "            await google.colab.kernel.invokeFunction('convertToInteractive',\n",
              "                                                     [key], {});\n",
              "          if (!dataTable) return;\n",
              "\n",
              "          const docLinkHtml = 'Like what you see? Visit the ' +\n",
              "            '<a target=\"_blank\" href=https://colab.research.google.com/notebooks/data_table.ipynb>data table notebook</a>'\n",
              "            + ' to learn more about interactive tables.';\n",
              "          element.innerHTML = '';\n",
              "          dataTable['output_type'] = 'display_data';\n",
              "          await google.colab.output.renderOutput(dataTable, element);\n",
              "          const docLink = document.createElement('div');\n",
              "          docLink.innerHTML = docLinkHtml;\n",
              "          element.appendChild(docLink);\n",
              "        }\n",
              "      </script>\n",
              "    </div>\n",
              "  </div>\n",
              "  "
            ]
          },
          "metadata": {},
          "execution_count": 6
        }
      ]
    },
    {
      "cell_type": "code",
      "source": [
        "np.unique(df_target.values)"
      ],
      "metadata": {
        "colab": {
          "base_uri": "https://localhost:8080/"
        },
        "id": "eaSzAQ5D2u5v",
        "outputId": "7bedd042-5a88-41bc-b20a-3193bba45172"
      },
      "execution_count": null,
      "outputs": [
        {
          "output_type": "execute_result",
          "data": {
            "text/plain": [
              "array([0, 1])"
            ]
          },
          "metadata": {},
          "execution_count": 14
        }
      ]
    },
    {
      "cell_type": "code",
      "source": [
        "#shape of the dataset\n",
        "df_feature.shape"
      ],
      "metadata": {
        "colab": {
          "base_uri": "https://localhost:8080/"
        },
        "id": "3X1XPjyE2wKc",
        "outputId": "40ceabf8-e8a1-4f4f-d5be-e17739fe9984"
      },
      "execution_count": null,
      "outputs": [
        {
          "output_type": "execute_result",
          "data": {
            "text/plain": [
              "(10000, 10)"
            ]
          },
          "metadata": {},
          "execution_count": 8
        }
      ]
    },
    {
      "cell_type": "code",
      "source": [
        "#checking for null\n",
        "df_feature.isnull().sum()"
      ],
      "metadata": {
        "colab": {
          "base_uri": "https://localhost:8080/"
        },
        "id": "UipSbnh124Yu",
        "outputId": "960744b4-4526-41bd-df26-18658370b8a9"
      },
      "execution_count": null,
      "outputs": [
        {
          "output_type": "execute_result",
          "data": {
            "text/plain": [
              "feature 1     0\n",
              "feature 2     0\n",
              "feature 3     0\n",
              "feature 4     0\n",
              "feature 5     0\n",
              "feature 6     0\n",
              "feature 7     0\n",
              "feature 8     0\n",
              "feature 9     0\n",
              "feature 10    0\n",
              "dtype: int64"
            ]
          },
          "metadata": {},
          "execution_count": 9
        }
      ]
    },
    {
      "cell_type": "code",
      "source": [
        "#spliting the data into train and testset\n",
        "\n",
        "X_train,X_test,Y_train,Y_test=train_test_split(df_feature,df_target,test_size=0.2,stratify=df_target,random_state=0)"
      ],
      "metadata": {
        "id": "-uyqxrdN9DPS"
      },
      "execution_count": null,
      "outputs": []
    },
    {
      "cell_type": "markdown",
      "source": [
        ""
      ],
      "metadata": {
        "id": "1HSCIqiO7FkV"
      }
    },
    {
      "cell_type": "markdown",
      "source": [
        "# It is a binary classification problem and the aim is to classify tree as either deciduous or coniferous base on the measurement given such as height,number of branches etc\n",
        "1.The output 0 means the tree is coniferous species and the output 1 means it is deciduous.\n",
        "\n",
        "2.Train a deep learning model of 2 hidden layers, the first hidden layer should have 10 nodes with tanh being the activation function.The second should be of 5 nodes with tanh activation function.\n",
        "\n",
        "3.Sigmoid activation function will be applied to the output layer.\n",
        "\n",
        "4.cross_binaryentropy for loss,SDG as optimizer,and accuracy as the metrics."
      ],
      "metadata": {
        "id": "L_QdMJCR7JfR"
      }
    },
    {
      "cell_type": "markdown",
      "source": [
        ""
      ],
      "metadata": {
        "id": "wfWzrBD77Ja4"
      }
    },
    {
      "cell_type": "code",
      "source": [
        "# modelling\n",
        "\n",
        "model=Sequential()\n",
        "model.add(Dense(input_dim=X_train.shape[1],units=10,activation=\"tanh\"))\n",
        "model.add(Dense(units=5,activation=\"tanh\"))\n",
        "model.add(Dense(units=1,activation=\"sigmoid\"))"
      ],
      "metadata": {
        "id": "g2ndvwKE3BRY"
      },
      "execution_count": null,
      "outputs": []
    },
    {
      "cell_type": "code",
      "source": [
        "model.summary()"
      ],
      "metadata": {
        "colab": {
          "base_uri": "https://localhost:8080/"
        },
        "id": "IX6R6Szk-Lvk",
        "outputId": "f572f508-ced3-4064-a84b-e4c8fc616257"
      },
      "execution_count": null,
      "outputs": [
        {
          "output_type": "stream",
          "name": "stdout",
          "text": [
            "Model: \"sequential\"\n",
            "_________________________________________________________________\n",
            " Layer (type)                Output Shape              Param #   \n",
            "=================================================================\n",
            " dense (Dense)               (None, 10)                110       \n",
            "                                                                 \n",
            " dense_1 (Dense)             (None, 5)                 55        \n",
            "                                                                 \n",
            " dense_2 (Dense)             (None, 1)                 6         \n",
            "                                                                 \n",
            "=================================================================\n",
            "Total params: 171\n",
            "Trainable params: 171\n",
            "Non-trainable params: 0\n",
            "_________________________________________________________________\n"
          ]
        }
      ]
    },
    {
      "cell_type": "code",
      "source": [
        "#compile the model\n",
        "\n",
        "model.compile(metrics=[\"accuracy\"],loss=\"binary_crossentropy\",optimizer=\"sgd\")"
      ],
      "metadata": {
        "id": "16bluabJ-NxA"
      },
      "execution_count": null,
      "outputs": []
    },
    {
      "cell_type": "code",
      "source": [
        "#using the model to train the training datase\n",
        "\n",
        "history=model.fit(X_train,Y_train,validation_split=0.2,batch_size=5,epochs=100,shuffle=False)"
      ],
      "metadata": {
        "colab": {
          "base_uri": "https://localhost:8080/"
        },
        "id": "vbPm99vv-nR9",
        "outputId": "d3eb2f13-a53a-43e6-c6ca-2b08b5de29ff"
      },
      "execution_count": null,
      "outputs": [
        {
          "output_type": "stream",
          "name": "stdout",
          "text": [
            "Epoch 1/100\n",
            "1280/1280 [==============================] - 7s 3ms/step - loss: 0.4000 - accuracy: 0.8122 - val_loss: 0.3415 - val_accuracy: 0.8512\n",
            "Epoch 2/100\n",
            "1280/1280 [==============================] - 3s 3ms/step - loss: 0.3199 - accuracy: 0.8667 - val_loss: 0.3179 - val_accuracy: 0.8669\n",
            "Epoch 3/100\n",
            "1280/1280 [==============================] - 3s 2ms/step - loss: 0.2990 - accuracy: 0.8775 - val_loss: 0.3020 - val_accuracy: 0.8794\n",
            "Epoch 4/100\n",
            "1280/1280 [==============================] - 3s 3ms/step - loss: 0.2837 - accuracy: 0.8842 - val_loss: 0.2878 - val_accuracy: 0.8838\n",
            "Epoch 5/100\n",
            "1280/1280 [==============================] - 4s 3ms/step - loss: 0.2699 - accuracy: 0.8900 - val_loss: 0.2757 - val_accuracy: 0.8844\n",
            "Epoch 6/100\n",
            "1280/1280 [==============================] - 3s 2ms/step - loss: 0.2568 - accuracy: 0.8941 - val_loss: 0.2642 - val_accuracy: 0.8850\n",
            "Epoch 7/100\n",
            "1280/1280 [==============================] - 3s 3ms/step - loss: 0.2433 - accuracy: 0.9006 - val_loss: 0.2527 - val_accuracy: 0.8938\n",
            "Epoch 8/100\n",
            "1280/1280 [==============================] - 3s 3ms/step - loss: 0.2306 - accuracy: 0.9053 - val_loss: 0.2422 - val_accuracy: 0.9019\n",
            "Epoch 9/100\n",
            "1280/1280 [==============================] - 3s 3ms/step - loss: 0.2202 - accuracy: 0.9102 - val_loss: 0.2330 - val_accuracy: 0.9044\n",
            "Epoch 10/100\n",
            "1280/1280 [==============================] - 3s 2ms/step - loss: 0.2124 - accuracy: 0.9131 - val_loss: 0.2260 - val_accuracy: 0.9100\n",
            "Epoch 11/100\n",
            "1280/1280 [==============================] - 3s 3ms/step - loss: 0.2067 - accuracy: 0.9150 - val_loss: 0.2212 - val_accuracy: 0.9156\n",
            "Epoch 12/100\n",
            "1280/1280 [==============================] - 3s 3ms/step - loss: 0.2027 - accuracy: 0.9175 - val_loss: 0.2180 - val_accuracy: 0.9144\n",
            "Epoch 13/100\n",
            "1280/1280 [==============================] - 3s 3ms/step - loss: 0.1998 - accuracy: 0.9191 - val_loss: 0.2156 - val_accuracy: 0.9156\n",
            "Epoch 14/100\n",
            "1280/1280 [==============================] - 3s 3ms/step - loss: 0.1977 - accuracy: 0.9203 - val_loss: 0.2138 - val_accuracy: 0.9181\n",
            "Epoch 15/100\n",
            "1280/1280 [==============================] - 3s 3ms/step - loss: 0.1960 - accuracy: 0.9222 - val_loss: 0.2123 - val_accuracy: 0.9206\n",
            "Epoch 16/100\n",
            "1280/1280 [==============================] - 3s 3ms/step - loss: 0.1946 - accuracy: 0.9227 - val_loss: 0.2111 - val_accuracy: 0.9206\n",
            "Epoch 17/100\n",
            "1280/1280 [==============================] - 3s 3ms/step - loss: 0.1934 - accuracy: 0.9230 - val_loss: 0.2102 - val_accuracy: 0.9225\n",
            "Epoch 18/100\n",
            "1280/1280 [==============================] - 4s 3ms/step - loss: 0.1923 - accuracy: 0.9230 - val_loss: 0.2094 - val_accuracy: 0.9225\n",
            "Epoch 19/100\n",
            "1280/1280 [==============================] - 3s 3ms/step - loss: 0.1913 - accuracy: 0.9236 - val_loss: 0.2088 - val_accuracy: 0.9200\n",
            "Epoch 20/100\n",
            "1280/1280 [==============================] - 3s 3ms/step - loss: 0.1903 - accuracy: 0.9252 - val_loss: 0.2081 - val_accuracy: 0.9200\n",
            "Epoch 21/100\n",
            "1280/1280 [==============================] - 3s 3ms/step - loss: 0.1891 - accuracy: 0.9267 - val_loss: 0.2073 - val_accuracy: 0.9212\n",
            "Epoch 22/100\n",
            "1280/1280 [==============================] - 3s 3ms/step - loss: 0.1878 - accuracy: 0.9267 - val_loss: 0.2064 - val_accuracy: 0.9225\n",
            "Epoch 23/100\n",
            "1280/1280 [==============================] - 3s 2ms/step - loss: 0.1863 - accuracy: 0.9283 - val_loss: 0.2052 - val_accuracy: 0.9231\n",
            "Epoch 24/100\n",
            "1280/1280 [==============================] - 3s 3ms/step - loss: 0.1845 - accuracy: 0.9287 - val_loss: 0.2039 - val_accuracy: 0.9219\n",
            "Epoch 25/100\n",
            "1280/1280 [==============================] - 3s 2ms/step - loss: 0.1814 - accuracy: 0.9292 - val_loss: 0.2017 - val_accuracy: 0.9225\n",
            "Epoch 27/100\n",
            "1280/1280 [==============================] - 3s 3ms/step - loss: 0.1801 - accuracy: 0.9292 - val_loss: 0.2009 - val_accuracy: 0.9231\n",
            "Epoch 28/100\n",
            "1280/1280 [==============================] - 3s 3ms/step - loss: 0.1790 - accuracy: 0.9298 - val_loss: 0.2003 - val_accuracy: 0.9219\n",
            "Epoch 29/100\n",
            "1280/1280 [==============================] - 3s 3ms/step - loss: 0.1781 - accuracy: 0.9294 - val_loss: 0.1998 - val_accuracy: 0.9244\n",
            "Epoch 30/100\n",
            "1280/1280 [==============================] - 3s 3ms/step - loss: 0.1772 - accuracy: 0.9297 - val_loss: 0.1992 - val_accuracy: 0.9244\n",
            "Epoch 31/100\n",
            "1280/1280 [==============================] - 3s 3ms/step - loss: 0.1764 - accuracy: 0.9305 - val_loss: 0.1987 - val_accuracy: 0.9237\n",
            "Epoch 32/100\n",
            "1280/1280 [==============================] - 3s 3ms/step - loss: 0.1756 - accuracy: 0.9305 - val_loss: 0.1983 - val_accuracy: 0.9250\n",
            "Epoch 33/100\n",
            "1280/1280 [==============================] - 3s 3ms/step - loss: 0.1748 - accuracy: 0.9314 - val_loss: 0.1981 - val_accuracy: 0.9244\n",
            "Epoch 34/100\n",
            "1280/1280 [==============================] - 3s 3ms/step - loss: 0.1741 - accuracy: 0.9305 - val_loss: 0.1980 - val_accuracy: 0.9250\n",
            "Epoch 35/100\n",
            "1280/1280 [==============================] - 3s 3ms/step - loss: 0.1733 - accuracy: 0.9311 - val_loss: 0.1978 - val_accuracy: 0.9231\n",
            "Epoch 36/100\n",
            "1280/1280 [==============================] - 3s 3ms/step - loss: 0.1727 - accuracy: 0.9312 - val_loss: 0.1978 - val_accuracy: 0.9219\n",
            "Epoch 37/100\n",
            "1280/1280 [==============================] - 3s 3ms/step - loss: 0.1720 - accuracy: 0.9316 - val_loss: 0.1978 - val_accuracy: 0.9200\n",
            "Epoch 38/100\n",
            "1280/1280 [==============================] - 3s 2ms/step - loss: 0.1715 - accuracy: 0.9314 - val_loss: 0.1978 - val_accuracy: 0.9187\n",
            "Epoch 39/100\n",
            "1280/1280 [==============================] - 3s 2ms/step - loss: 0.1710 - accuracy: 0.9312 - val_loss: 0.1979 - val_accuracy: 0.9206\n",
            "Epoch 40/100\n",
            "1280/1280 [==============================] - 3s 3ms/step - loss: 0.1705 - accuracy: 0.9312 - val_loss: 0.1980 - val_accuracy: 0.9212\n",
            "Epoch 41/100\n",
            "1280/1280 [==============================] - 3s 3ms/step - loss: 0.1701 - accuracy: 0.9309 - val_loss: 0.1981 - val_accuracy: 0.9200\n",
            "Epoch 42/100\n",
            "1280/1280 [==============================] - 3s 3ms/step - loss: 0.1698 - accuracy: 0.9309 - val_loss: 0.1982 - val_accuracy: 0.9194\n",
            "Epoch 43/100\n",
            "1280/1280 [==============================] - 3s 2ms/step - loss: 0.1694 - accuracy: 0.9306 - val_loss: 0.1982 - val_accuracy: 0.9194\n",
            "Epoch 44/100\n",
            "1280/1280 [==============================] - 3s 3ms/step - loss: 0.1691 - accuracy: 0.9309 - val_loss: 0.1983 - val_accuracy: 0.9181\n",
            "Epoch 45/100\n",
            "1280/1280 [==============================] - 3s 3ms/step - loss: 0.1688 - accuracy: 0.9312 - val_loss: 0.1983 - val_accuracy: 0.9175\n",
            "Epoch 46/100\n",
            "1280/1280 [==============================] - 3s 3ms/step - loss: 0.1685 - accuracy: 0.9311 - val_loss: 0.1983 - val_accuracy: 0.9169\n",
            "Epoch 47/100\n",
            "1280/1280 [==============================] - 3s 3ms/step - loss: 0.1683 - accuracy: 0.9316 - val_loss: 0.1983 - val_accuracy: 0.9175\n",
            "Epoch 48/100\n",
            "1280/1280 [==============================] - 3s 2ms/step - loss: 0.1680 - accuracy: 0.9319 - val_loss: 0.1983 - val_accuracy: 0.9175\n",
            "Epoch 49/100\n",
            "1280/1280 [==============================] - 3s 3ms/step - loss: 0.1677 - accuracy: 0.9314 - val_loss: 0.1982 - val_accuracy: 0.9181\n",
            "Epoch 50/100\n",
            "1280/1280 [==============================] - 4s 3ms/step - loss: 0.1674 - accuracy: 0.9314 - val_loss: 0.1981 - val_accuracy: 0.9181\n",
            "Epoch 51/100\n",
            "1280/1280 [==============================] - 3s 3ms/step - loss: 0.1671 - accuracy: 0.9317 - val_loss: 0.1979 - val_accuracy: 0.9187\n",
            "Epoch 52/100\n",
            "1280/1280 [==============================] - 3s 3ms/step - loss: 0.1668 - accuracy: 0.9317 - val_loss: 0.1977 - val_accuracy: 0.9194\n",
            "Epoch 53/100\n",
            "1280/1280 [==============================] - 3s 3ms/step - loss: 0.1664 - accuracy: 0.9319 - val_loss: 0.1972 - val_accuracy: 0.9194\n",
            "Epoch 54/100\n",
            "1280/1280 [==============================] - 3s 3ms/step - loss: 0.1660 - accuracy: 0.9323 - val_loss: 0.1965 - val_accuracy: 0.9200\n",
            "Epoch 55/100\n",
            "1280/1280 [==============================] - 3s 3ms/step - loss: 0.1655 - accuracy: 0.9325 - val_loss: 0.1955 - val_accuracy: 0.9187\n",
            "Epoch 56/100\n",
            "1280/1280 [==============================] - 3s 3ms/step - loss: 0.1650 - accuracy: 0.9330 - val_loss: 0.1943 - val_accuracy: 0.9181\n",
            "Epoch 57/100\n",
            "1280/1280 [==============================] - 3s 3ms/step - loss: 0.1645 - accuracy: 0.9331 - val_loss: 0.1930 - val_accuracy: 0.9200\n",
            "Epoch 58/100\n",
            "1280/1280 [==============================] - 3s 3ms/step - loss: 0.1641 - accuracy: 0.9336 - val_loss: 0.1917 - val_accuracy: 0.9219\n",
            "Epoch 59/100\n",
            "1280/1280 [==============================] - 3s 3ms/step - loss: 0.1636 - accuracy: 0.9339 - val_loss: 0.1905 - val_accuracy: 0.9219\n",
            "Epoch 60/100\n",
            "1280/1280 [==============================] - 3s 3ms/step - loss: 0.1632 - accuracy: 0.9347 - val_loss: 0.1894 - val_accuracy: 0.9231\n",
            "Epoch 61/100\n",
            "1280/1280 [==============================] - 3s 3ms/step - loss: 0.1628 - accuracy: 0.9348 - val_loss: 0.1884 - val_accuracy: 0.9244\n",
            "Epoch 62/100\n",
            "1280/1280 [==============================] - 3s 3ms/step - loss: 0.1625 - accuracy: 0.9352 - val_loss: 0.1875 - val_accuracy: 0.9244\n",
            "Epoch 63/100\n",
            "1280/1280 [==============================] - 3s 3ms/step - loss: 0.1622 - accuracy: 0.9356 - val_loss: 0.1868 - val_accuracy: 0.9244\n",
            "Epoch 64/100\n",
            "1280/1280 [==============================] - 3s 3ms/step - loss: 0.1619 - accuracy: 0.9358 - val_loss: 0.1861 - val_accuracy: 0.9237\n",
            "Epoch 65/100\n",
            "1280/1280 [==============================] - 3s 3ms/step - loss: 0.1616 - accuracy: 0.9358 - val_loss: 0.1855 - val_accuracy: 0.9231\n",
            "Epoch 66/100\n",
            "1280/1280 [==============================] - 3s 3ms/step - loss: 0.1613 - accuracy: 0.9366 - val_loss: 0.1849 - val_accuracy: 0.9231\n",
            "Epoch 67/100\n",
            "1280/1280 [==============================] - 3s 3ms/step - loss: 0.1611 - accuracy: 0.9367 - val_loss: 0.1844 - val_accuracy: 0.9237\n",
            "Epoch 68/100\n",
            "1280/1280 [==============================] - 3s 3ms/step - loss: 0.1608 - accuracy: 0.9369 - val_loss: 0.1839 - val_accuracy: 0.9231\n",
            "Epoch 69/100\n",
            "1280/1280 [==============================] - 3s 3ms/step - loss: 0.1606 - accuracy: 0.9370 - val_loss: 0.1835 - val_accuracy: 0.9237\n",
            "Epoch 70/100\n",
            "1280/1280 [==============================] - 3s 3ms/step - loss: 0.1604 - accuracy: 0.9364 - val_loss: 0.1830 - val_accuracy: 0.9237\n",
            "Epoch 71/100\n",
            "1280/1280 [==============================] - 3s 3ms/step - loss: 0.1602 - accuracy: 0.9369 - val_loss: 0.1826 - val_accuracy: 0.9244\n",
            "Epoch 72/100\n",
            "1280/1280 [==============================] - 3s 3ms/step - loss: 0.1600 - accuracy: 0.9370 - val_loss: 0.1822 - val_accuracy: 0.9237\n",
            "Epoch 73/100\n",
            "1280/1280 [==============================] - 3s 3ms/step - loss: 0.1598 - accuracy: 0.9375 - val_loss: 0.1818 - val_accuracy: 0.9237\n",
            "Epoch 74/100\n",
            "1280/1280 [==============================] - 3s 3ms/step - loss: 0.1596 - accuracy: 0.9373 - val_loss: 0.1814 - val_accuracy: 0.9250\n",
            "Epoch 75/100\n",
            "1280/1280 [==============================] - 3s 3ms/step - loss: 0.1594 - accuracy: 0.9378 - val_loss: 0.1810 - val_accuracy: 0.9244\n",
            "Epoch 76/100\n",
            "1280/1280 [==============================] - 3s 3ms/step - loss: 0.1592 - accuracy: 0.9380 - val_loss: 0.1806 - val_accuracy: 0.9237\n",
            "Epoch 77/100\n",
            "1280/1280 [==============================] - 3s 3ms/step - loss: 0.1590 - accuracy: 0.9378 - val_loss: 0.1803 - val_accuracy: 0.9250\n",
            "Epoch 78/100\n",
            "1280/1280 [==============================] - 3s 3ms/step - loss: 0.1588 - accuracy: 0.9375 - val_loss: 0.1800 - val_accuracy: 0.9250\n",
            "Epoch 79/100\n",
            "1280/1280 [==============================] - 3s 3ms/step - loss: 0.1586 - accuracy: 0.9377 - val_loss: 0.1798 - val_accuracy: 0.9244\n",
            "Epoch 80/100\n",
            "1280/1280 [==============================] - 3s 3ms/step - loss: 0.1584 - accuracy: 0.9380 - val_loss: 0.1795 - val_accuracy: 0.9250\n",
            "Epoch 81/100\n",
            "1280/1280 [==============================] - 3s 3ms/step - loss: 0.1583 - accuracy: 0.9386 - val_loss: 0.1793 - val_accuracy: 0.9262\n",
            "Epoch 82/100\n",
            "1280/1280 [==============================] - 3s 2ms/step - loss: 0.1581 - accuracy: 0.9383 - val_loss: 0.1791 - val_accuracy: 0.9275\n",
            "Epoch 83/100\n",
            "1280/1280 [==============================] - 3s 3ms/step - loss: 0.1579 - accuracy: 0.9383 - val_loss: 0.1789 - val_accuracy: 0.9269\n",
            "Epoch 84/100\n",
            "1280/1280 [==============================] - 3s 3ms/step - loss: 0.1577 - accuracy: 0.9384 - val_loss: 0.1788 - val_accuracy: 0.9269\n",
            "Epoch 85/100\n",
            "1280/1280 [==============================] - 3s 3ms/step - loss: 0.1575 - accuracy: 0.9381 - val_loss: 0.1786 - val_accuracy: 0.9275\n",
            "Epoch 86/100\n",
            "1280/1280 [==============================] - 4s 3ms/step - loss: 0.1573 - accuracy: 0.9383 - val_loss: 0.1784 - val_accuracy: 0.9275\n",
            "Epoch 87/100\n",
            "1280/1280 [==============================] - 3s 2ms/step - loss: 0.1571 - accuracy: 0.9384 - val_loss: 0.1782 - val_accuracy: 0.9275\n",
            "Epoch 88/100\n",
            "1280/1280 [==============================] - 3s 3ms/step - loss: 0.1568 - accuracy: 0.9381 - val_loss: 0.1779 - val_accuracy: 0.9287\n",
            "Epoch 89/100\n",
            "1280/1280 [==============================] - 3s 3ms/step - loss: 0.1566 - accuracy: 0.9384 - val_loss: 0.1777 - val_accuracy: 0.9287\n",
            "Epoch 90/100\n",
            "1280/1280 [==============================] - 3s 2ms/step - loss: 0.1563 - accuracy: 0.9391 - val_loss: 0.1774 - val_accuracy: 0.9294\n",
            "Epoch 91/100\n",
            "1280/1280 [==============================] - 3s 3ms/step - loss: 0.1560 - accuracy: 0.9395 - val_loss: 0.1772 - val_accuracy: 0.9300\n",
            "Epoch 92/100\n",
            "1280/1280 [==============================] - 3s 3ms/step - loss: 0.1557 - accuracy: 0.9392 - val_loss: 0.1769 - val_accuracy: 0.9306\n",
            "Epoch 93/100\n",
            "1280/1280 [==============================] - 3s 3ms/step - loss: 0.1554 - accuracy: 0.9395 - val_loss: 0.1766 - val_accuracy: 0.9294\n",
            "Epoch 94/100\n",
            "1280/1280 [==============================] - 3s 3ms/step - loss: 0.1550 - accuracy: 0.9400 - val_loss: 0.1763 - val_accuracy: 0.9306\n",
            "Epoch 95/100\n",
            "1280/1280 [==============================] - 3s 3ms/step - loss: 0.1547 - accuracy: 0.9397 - val_loss: 0.1760 - val_accuracy: 0.9312\n",
            "Epoch 96/100\n",
            "1280/1280 [==============================] - 3s 3ms/step - loss: 0.1544 - accuracy: 0.9397 - val_loss: 0.1756 - val_accuracy: 0.9325\n",
            "Epoch 97/100\n",
            "1280/1280 [==============================] - 3s 3ms/step - loss: 0.1540 - accuracy: 0.9395 - val_loss: 0.1752 - val_accuracy: 0.9344\n",
            "Epoch 98/100\n",
            "1280/1280 [==============================] - 3s 3ms/step - loss: 0.1536 - accuracy: 0.9392 - val_loss: 0.1749 - val_accuracy: 0.9344\n",
            "Epoch 99/100\n",
            "1280/1280 [==============================] - 3s 3ms/step - loss: 0.1533 - accuracy: 0.9397 - val_loss: 0.1745 - val_accuracy: 0.9356\n",
            "Epoch 100/100\n",
            "1280/1280 [==============================] - 3s 3ms/step - loss: 0.1529 - accuracy: 0.9398 - val_loss: 0.1742 - val_accuracy: 0.9356\n"
          ]
        }
      ]
    },
    {
      "cell_type": "code",
      "source": [
        "#ploting the accuracy of the train and val data against epoch\n",
        "\n",
        "plt.plot(history.history[\"accuracy\"])\n",
        "plt.plot(history.history[\"val_accuracy\"])\n",
        "plt.title(\"Model accuracy\")\n",
        "plt.xlabel(\"Epoch\")\n",
        "plt.ylabel(\"Accuracy\")\n",
        "plt.legend([\"Train\",\"Validation\"])\n",
        "plt.show()"
      ],
      "metadata": {
        "colab": {
          "base_uri": "https://localhost:8080/",
          "height": 295
        },
        "id": "oyxT9mS6_xUD",
        "outputId": "eb402f26-900a-47f4-a05f-0d65a86808cf"
      },
      "execution_count": null,
      "outputs": [
        {
          "output_type": "display_data",
          "data": {
            "text/plain": [
              "<Figure size 432x288 with 1 Axes>"
            ],
            "image/png": "[encoded data removed]"
          },
          "metadata": {
            "needs_background": "light"
          }
        }
      ]
    },
    {
      "cell_type": "code",
      "source": [
        "#ploting the accuracy of the train and val data against epoch\n",
        "\n",
        "plt.plot(history.history[\"loss\"])\n",
        "plt.plot(history.history[\"val_loss\"])\n",
        "plt.title(\"Model Loss\")\n",
        "plt.xlabel(\"Epoch\")\n",
        "plt.ylabel(\"loss\")\n",
        "plt.legend([\"Train\",\"Validation\"])\n",
        "plt.show()"
      ],
      "metadata": {
        "colab": {
          "base_uri": "https://localhost:8080/",
          "height": 295
        },
        "id": "ONw-LSFvBqgR",
        "outputId": "8d142055-03f6-4c4a-91e3-0e50be0a657b"
      },
      "execution_count": null,
      "outputs": [
        {
          "output_type": "display_data",
          "data": {
            "text/plain": [
              "<Figure size 432x288 with 1 Axes>"
            ],
            "image/png": "[encoded data removed]"
          },
          "metadata": {
            "needs_background": "light"
          }
        }
      ]
    },
    {
      "cell_type": "code",
      "source": [
        "#Testing the model 0on unseen data to see if it doesn't overfit\n",
        "\n",
        "Y_pred=model.predict(X_test)\n",
        "Y_pred=Y_pred>0.5\n",
        "accuracy_score(Y_pred,Y_test)"
      ],
      "metadata": {
        "colab": {
          "base_uri": "https://localhost:8080/"
        },
        "id": "qWbKzFXHB6CQ",
        "outputId": "78550863-7497-43ff-b97f-716615d27855"
      },
      "execution_count": null,
      "outputs": [
        {
          "output_type": "execute_result",
          "data": {
            "text/plain": [
              "0.9445"
            ]
          },
          "metadata": {},
          "execution_count": 31
        }
      ]
    },
    {
      "cell_type": "markdown",
      "source": [
        "This is a great performance on the unseen data"
      ],
      "metadata": {
        "id": "o0pTNyfLCzxH"
      }
    },
    {
      "cell_type": "code",
      "source": [
        ""
      ],
      "metadata": {
        "id": "ALd5VgV1CpW5"
      },
      "execution_count": null,
      "outputs": []
    }
  ]
}