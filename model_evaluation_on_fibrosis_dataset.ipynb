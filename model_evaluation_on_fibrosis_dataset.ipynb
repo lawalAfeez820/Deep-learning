{
  "nbformat": 4,
  "nbformat_minor": 0,
  "metadata": {
    "colab": {
      "name": "model evaluation on fibrosis dataset.ipynb",
      "provenance": [],
      "collapsed_sections": [],
      "authorship_tag": "ABX9TyNPebyvnTAgdFIGxWtUaciM",
      "include_colab_link": true
    },
    "kernelspec": {
      "name": "python3",
      "display_name": "Python 3"
    },
    "language_info": {
      "name": "python"
    }
  },
  "cells": [
    {
      "cell_type": "markdown",
      "metadata": {
        "id": "view-in-github",
        "colab_type": "text"
      },
      "source": [
        "<a href=\"https://colab.research.google.com/github/lawalAfeez820/Deep-learning/blob/main/model_evaluation_on_fibrosis_dataset.ipynb\" target=\"_parent\"><img src=\"https://colab.research.google.com/assets/colab-badge.svg\" alt=\"Open In Colab\"/></a>"
      ]
    },
    {
      "cell_type": "markdown",
      "source": [
        ""
      ],
      "metadata": {
        "id": "N5JcaNceZKJt"
      }
    },
    {
      "cell_type": "markdown",
      "source": [
        "# ADVANCED FIBROSIS DIAGNOSIS WITH NEURAL NETWORK\n",
        "\n",
        "## Objective\n",
        "Using a real dataset to predict whether a patient has advanced fibrosis based on measurements such as age,gender and BMI .\n",
        "\n",
        "##Dataset\n",
        "The dataset consists of information foe 1385 patients who underwent treatment dosages for hepatitis C.For each patient, 28 different attritutes are available as well as a class label,which can only take two values :1,indicating advanced fibrosis and 0 indicating no indication of advanced fibrosis.\n",
        "\n",
        "## AIM\n",
        "Implementing different deep neural network architechtures to perform the classification and determine how many epochs the final classifier need to be trained for before it started overfiting the data."
      ],
      "metadata": {
        "id": "iDRLR97PnFeF"
      }
    },
    {
      "cell_type": "code",
      "execution_count": null,
      "metadata": {
        "id": "jt1nkpB8ZIwW"
      },
      "outputs": [],
      "source": [
        "# Importing the libraries\n",
        "\n",
        "import pandas as pd\n",
        "import matplotlib.pyplot as plt\n",
        "from keras.models import Sequential\n",
        "from keras.layers import Dense\n",
        "from keras.layers import LeakyReLU,ELU,ReLU\n",
        "from sklearn.model_selection import train_test_split\n",
        "from sklearn.metrics import roc_auc_score,confusion_matrix,accuracy_score\n",
        "from sklearn.preprocessing import StandardScaler\n",
        "import numpy as np\n",
        "import matplotlib.pyplot as plt"
      ]
    },
    {
      "cell_type": "code",
      "source": [
        "# loading the dataset\n",
        "\n",
        "feature=pd.read_csv(\"/content/HCV_feats.csv\")\n",
        "target=pd.read_csv(\"/content/HCV_target.csv\")"
      ],
      "metadata": {
        "id": "WHwz9wRtokzJ"
      },
      "execution_count": null,
      "outputs": []
    },
    {
      "cell_type": "code",
      "source": [
        "# the number of rows and columns\n",
        "feature.shape"
      ],
      "metadata": {
        "colab": {
          "base_uri": "https://localhost:8080/"
        },
        "id": "xrWMl-gfpSEL",
        "outputId": "830a4ceb-d5f3-48a2-a1bb-b592f3f79b69"
      },
      "execution_count": null,
      "outputs": [
        {
          "output_type": "execute_result",
          "data": {
            "text/plain": [
              "(1385, 28)"
            ]
          },
          "metadata": {},
          "execution_count": 4
        }
      ]
    },
    {
      "cell_type": "code",
      "source": [
        "np.unique(target.values)"
      ],
      "metadata": {
        "colab": {
          "base_uri": "https://localhost:8080/"
        },
        "id": "YuwAvINlpkON",
        "outputId": "96f5248c-70c4-4716-e73d-1668b6b89777"
      },
      "execution_count": null,
      "outputs": [
        {
          "output_type": "execute_result",
          "data": {
            "text/plain": [
              "array([0, 1])"
            ]
          },
          "metadata": {},
          "execution_count": 6
        }
      ]
    },
    {
      "cell_type": "code",
      "source": [
        "#spliting the dataset into train and testdatset\n",
        "\n",
        "x_train,x_test,y_train,y_test=train_test_split(feature,target,stratify=target,random_state=100)"
      ],
      "metadata": {
        "id": "IB2RRocypyhp"
      },
      "execution_count": null,
      "outputs": []
    },
    {
      "cell_type": "code",
      "source": [
        "#performing standadization on the data\n",
        "scale=StandardScaler()\n",
        "x_train=scale.fit_transform(x_train)\n",
        "x_test=scale.transform(x_test)"
      ],
      "metadata": {
        "id": "fZnJXqT0p_ge"
      },
      "execution_count": null,
      "outputs": []
    },
    {
      "cell_type": "code",
      "source": [
        "# Buiding a model with 1 hidden layer(3 nodes) using tanh as the activation function and sigmoid as  the  activation function for the output layer\n",
        "\n",
        "model1=Sequential()\n",
        "model1.add(Dense(input_dim=x_train.shape[1],units=3,activation=\"tanh\"))\n",
        "model1.add(Dense(units=1,activation=\"sigmoid\"))\n",
        "\n",
        "model1.compile(metrics=[\"accuracy\"],optimizer=\"sgd\",loss=\"binary_crossentropy\")"
      ],
      "metadata": {
        "id": "khVqMiggqb9j"
      },
      "execution_count": null,
      "outputs": []
    },
    {
      "cell_type": "code",
      "source": [
        "model1.summary()"
      ],
      "metadata": {
        "colab": {
          "base_uri": "https://localhost:8080/"
        },
        "id": "fQFSKW3-rSXk",
        "outputId": "f1523a0f-6bcf-47b4-a50b-efa7f853f8ed"
      },
      "execution_count": null,
      "outputs": [
        {
          "output_type": "stream",
          "name": "stdout",
          "text": [
            "Model: \"sequential\"\n",
            "_________________________________________________________________\n",
            " Layer (type)                Output Shape              Param #   \n",
            "=================================================================\n",
            " dense (Dense)               (None, 3)                 87        \n",
            "                                                                 \n",
            " dense_1 (Dense)             (None, 1)                 4         \n",
            "                                                                 \n",
            "=================================================================\n",
            "Total params: 91\n",
            "Trainable params: 91\n",
            "Non-trainable params: 0\n",
            "_________________________________________________________________\n"
          ]
        }
      ]
    },
    {
      "cell_type": "code",
      "source": [
        "# fitting the model on the train data with 100 epochs\n",
        "\n",
        "history1=model1.fit(x_train,y_train,batch_size=20,epochs=100,validation_split=0.1,shuffle=False)"
      ],
      "metadata": {
        "colab": {
          "base_uri": "https://localhost:8080/"
        },
        "id": "p-0BraYirWdc",
        "outputId": "6ff475c2-1cfd-4f78-d3bf-93c4a2baa4f2"
      },
      "execution_count": null,
      "outputs": [
        {
          "output_type": "stream",
          "name": "stdout",
          "text": [
            "Epoch 1/100\n",
            "47/47 [==============================] - 1s 6ms/step - loss: 0.7582 - accuracy: 0.5203 - val_loss: 0.7701 - val_accuracy: 0.5288\n",
            "Epoch 2/100\n",
            "47/47 [==============================] - 0s 3ms/step - loss: 0.7476 - accuracy: 0.5257 - val_loss: 0.7617 - val_accuracy: 0.5096\n",
            "Epoch 3/100\n",
            "47/47 [==============================] - 0s 2ms/step - loss: 0.7387 - accuracy: 0.5289 - val_loss: 0.7545 - val_accuracy: 0.5096\n",
            "Epoch 4/100\n",
            "47/47 [==============================] - 0s 4ms/step - loss: 0.7312 - accuracy: 0.5321 - val_loss: 0.7484 - val_accuracy: 0.5288\n",
            "Epoch 5/100\n",
            "47/47 [==============================] - 0s 4ms/step - loss: 0.7249 - accuracy: 0.5375 - val_loss: 0.7432 - val_accuracy: 0.5385\n",
            "Epoch 6/100\n",
            "47/47 [==============================] - 0s 4ms/step - loss: 0.7195 - accuracy: 0.5375 - val_loss: 0.7387 - val_accuracy: 0.5192\n",
            "Epoch 7/100\n",
            "47/47 [==============================] - 0s 4ms/step - loss: 0.7148 - accuracy: 0.5418 - val_loss: 0.7348 - val_accuracy: 0.5288\n",
            "Epoch 8/100\n",
            "47/47 [==============================] - 0s 3ms/step - loss: 0.7108 - accuracy: 0.5460 - val_loss: 0.7313 - val_accuracy: 0.5385\n",
            "Epoch 9/100\n",
            "47/47 [==============================] - 0s 3ms/step - loss: 0.7073 - accuracy: 0.5482 - val_loss: 0.7282 - val_accuracy: 0.5192\n",
            "Epoch 10/100\n",
            "47/47 [==============================] - 0s 3ms/step - loss: 0.7042 - accuracy: 0.5535 - val_loss: 0.7255 - val_accuracy: 0.5192\n",
            "Epoch 11/100\n",
            "47/47 [==============================] - 0s 3ms/step - loss: 0.7015 - accuracy: 0.5471 - val_loss: 0.7231 - val_accuracy: 0.5096\n",
            "Epoch 12/100\n",
            "47/47 [==============================] - 0s 3ms/step - loss: 0.6991 - accuracy: 0.5482 - val_loss: 0.7209 - val_accuracy: 0.5096\n",
            "Epoch 13/100\n",
            "47/47 [==============================] - 0s 3ms/step - loss: 0.6970 - accuracy: 0.5514 - val_loss: 0.7189 - val_accuracy: 0.5000\n",
            "Epoch 14/100\n",
            "47/47 [==============================] - 0s 4ms/step - loss: 0.6951 - accuracy: 0.5557 - val_loss: 0.7171 - val_accuracy: 0.5000\n",
            "Epoch 15/100\n",
            "47/47 [==============================] - 0s 3ms/step - loss: 0.6934 - accuracy: 0.5546 - val_loss: 0.7154 - val_accuracy: 0.5000\n",
            "Epoch 16/100\n",
            "47/47 [==============================] - 0s 3ms/step - loss: 0.6918 - accuracy: 0.5546 - val_loss: 0.7139 - val_accuracy: 0.5096\n",
            "Epoch 17/100\n",
            "47/47 [==============================] - 0s 3ms/step - loss: 0.6904 - accuracy: 0.5557 - val_loss: 0.7126 - val_accuracy: 0.5096\n",
            "Epoch 18/100\n",
            "47/47 [==============================] - 0s 3ms/step - loss: 0.6891 - accuracy: 0.5567 - val_loss: 0.7113 - val_accuracy: 0.5096\n",
            "Epoch 19/100\n",
            "47/47 [==============================] - 0s 3ms/step - loss: 0.6880 - accuracy: 0.5600 - val_loss: 0.7101 - val_accuracy: 0.5096\n",
            "Epoch 20/100\n",
            "47/47 [==============================] - 0s 3ms/step - loss: 0.6869 - accuracy: 0.5632 - val_loss: 0.7090 - val_accuracy: 0.5096\n",
            "Epoch 21/100\n",
            "47/47 [==============================] - 0s 2ms/step - loss: 0.6859 - accuracy: 0.5642 - val_loss: 0.7080 - val_accuracy: 0.5096\n",
            "Epoch 22/100\n",
            "47/47 [==============================] - 0s 2ms/step - loss: 0.6850 - accuracy: 0.5675 - val_loss: 0.7071 - val_accuracy: 0.5000\n",
            "Epoch 23/100\n",
            "47/47 [==============================] - 0s 2ms/step - loss: 0.6841 - accuracy: 0.5717 - val_loss: 0.7062 - val_accuracy: 0.5000\n",
            "Epoch 24/100\n",
            "47/47 [==============================] - 0s 2ms/step - loss: 0.6833 - accuracy: 0.5728 - val_loss: 0.7054 - val_accuracy: 0.5000\n",
            "Epoch 25/100\n",
            "47/47 [==============================] - 0s 2ms/step - loss: 0.6825 - accuracy: 0.5739 - val_loss: 0.7047 - val_accuracy: 0.4904\n",
            "Epoch 26/100\n",
            "47/47 [==============================] - 0s 2ms/step - loss: 0.6818 - accuracy: 0.5760 - val_loss: 0.7040 - val_accuracy: 0.4904\n",
            "Epoch 27/100\n",
            "47/47 [==============================] - 0s 2ms/step - loss: 0.6811 - accuracy: 0.5728 - val_loss: 0.7033 - val_accuracy: 0.4904\n",
            "Epoch 28/100\n",
            "47/47 [==============================] - 0s 2ms/step - loss: 0.6805 - accuracy: 0.5749 - val_loss: 0.7027 - val_accuracy: 0.4904\n",
            "Epoch 29/100\n",
            "47/47 [==============================] - 0s 3ms/step - loss: 0.6799 - accuracy: 0.5782 - val_loss: 0.7021 - val_accuracy: 0.5000\n",
            "Epoch 30/100\n",
            "47/47 [==============================] - 0s 2ms/step - loss: 0.6793 - accuracy: 0.5814 - val_loss: 0.7016 - val_accuracy: 0.5000\n",
            "Epoch 31/100\n",
            "47/47 [==============================] - 0s 2ms/step - loss: 0.6788 - accuracy: 0.5814 - val_loss: 0.7011 - val_accuracy: 0.5096\n",
            "Epoch 32/100\n",
            "47/47 [==============================] - 0s 2ms/step - loss: 0.6782 - accuracy: 0.5803 - val_loss: 0.7007 - val_accuracy: 0.5096\n",
            "Epoch 33/100\n",
            "47/47 [==============================] - 0s 2ms/step - loss: 0.6777 - accuracy: 0.5814 - val_loss: 0.7002 - val_accuracy: 0.5096\n",
            "Epoch 34/100\n",
            "47/47 [==============================] - 0s 2ms/step - loss: 0.6773 - accuracy: 0.5792 - val_loss: 0.6998 - val_accuracy: 0.5000\n",
            "Epoch 35/100\n",
            "47/47 [==============================] - 0s 2ms/step - loss: 0.6768 - accuracy: 0.5803 - val_loss: 0.6995 - val_accuracy: 0.5096\n",
            "Epoch 36/100\n",
            "47/47 [==============================] - 0s 2ms/step - loss: 0.6763 - accuracy: 0.5749 - val_loss: 0.6991 - val_accuracy: 0.5096\n",
            "Epoch 37/100\n",
            "47/47 [==============================] - 0s 2ms/step - loss: 0.6759 - accuracy: 0.5771 - val_loss: 0.6988 - val_accuracy: 0.5096\n",
            "Epoch 38/100\n",
            "47/47 [==============================] - 0s 2ms/step - loss: 0.6755 - accuracy: 0.5792 - val_loss: 0.6985 - val_accuracy: 0.5096\n",
            "Epoch 39/100\n",
            "47/47 [==============================] - 0s 2ms/step - loss: 0.6751 - accuracy: 0.5792 - val_loss: 0.6982 - val_accuracy: 0.5096\n",
            "Epoch 40/100\n",
            "47/47 [==============================] - 0s 2ms/step - loss: 0.6747 - accuracy: 0.5760 - val_loss: 0.6980 - val_accuracy: 0.5096\n",
            "Epoch 41/100\n",
            "47/47 [==============================] - 0s 2ms/step - loss: 0.6743 - accuracy: 0.5749 - val_loss: 0.6977 - val_accuracy: 0.5096\n",
            "Epoch 42/100\n",
            "47/47 [==============================] - 0s 2ms/step - loss: 0.6740 - accuracy: 0.5728 - val_loss: 0.6975 - val_accuracy: 0.5096\n",
            "Epoch 43/100\n",
            "47/47 [==============================] - 0s 2ms/step - loss: 0.6736 - accuracy: 0.5771 - val_loss: 0.6973 - val_accuracy: 0.5192\n",
            "Epoch 44/100\n",
            "47/47 [==============================] - 0s 3ms/step - loss: 0.6733 - accuracy: 0.5771 - val_loss: 0.6971 - val_accuracy: 0.5192\n",
            "Epoch 45/100\n",
            "47/47 [==============================] - 0s 3ms/step - loss: 0.6729 - accuracy: 0.5782 - val_loss: 0.6970 - val_accuracy: 0.5192\n",
            "Epoch 46/100\n",
            "47/47 [==============================] - 0s 3ms/step - loss: 0.6726 - accuracy: 0.5771 - val_loss: 0.6968 - val_accuracy: 0.5192\n",
            "Epoch 47/100\n",
            "47/47 [==============================] - 0s 2ms/step - loss: 0.6723 - accuracy: 0.5803 - val_loss: 0.6967 - val_accuracy: 0.5288\n",
            "Epoch 48/100\n",
            "47/47 [==============================] - 0s 2ms/step - loss: 0.6720 - accuracy: 0.5824 - val_loss: 0.6966 - val_accuracy: 0.5385\n",
            "Epoch 49/100\n",
            "47/47 [==============================] - 0s 3ms/step - loss: 0.6717 - accuracy: 0.5803 - val_loss: 0.6964 - val_accuracy: 0.5385\n",
            "Epoch 50/100\n",
            "47/47 [==============================] - 0s 2ms/step - loss: 0.6714 - accuracy: 0.5803 - val_loss: 0.6964 - val_accuracy: 0.5385\n",
            "Epoch 51/100\n",
            "47/47 [==============================] - 0s 2ms/step - loss: 0.6711 - accuracy: 0.5846 - val_loss: 0.6963 - val_accuracy: 0.5385\n",
            "Epoch 52/100\n",
            "47/47 [==============================] - 0s 3ms/step - loss: 0.6708 - accuracy: 0.5835 - val_loss: 0.6962 - val_accuracy: 0.5385\n",
            "Epoch 53/100\n",
            "47/47 [==============================] - 0s 3ms/step - loss: 0.6705 - accuracy: 0.5835 - val_loss: 0.6961 - val_accuracy: 0.5385\n",
            "Epoch 54/100\n",
            "47/47 [==============================] - 0s 2ms/step - loss: 0.6702 - accuracy: 0.5857 - val_loss: 0.6961 - val_accuracy: 0.5385\n",
            "Epoch 55/100\n",
            "47/47 [==============================] - 0s 2ms/step - loss: 0.6699 - accuracy: 0.5857 - val_loss: 0.6961 - val_accuracy: 0.5481\n",
            "Epoch 56/100\n",
            "47/47 [==============================] - 0s 2ms/step - loss: 0.6697 - accuracy: 0.5867 - val_loss: 0.6960 - val_accuracy: 0.5481\n",
            "Epoch 57/100\n",
            "47/47 [==============================] - 0s 2ms/step - loss: 0.6694 - accuracy: 0.5846 - val_loss: 0.6960 - val_accuracy: 0.5481\n",
            "Epoch 58/100\n",
            "47/47 [==============================] - 0s 2ms/step - loss: 0.6691 - accuracy: 0.5857 - val_loss: 0.6960 - val_accuracy: 0.5481\n",
            "Epoch 59/100\n",
            "47/47 [==============================] - 0s 2ms/step - loss: 0.6689 - accuracy: 0.5846 - val_loss: 0.6960 - val_accuracy: 0.5481\n",
            "Epoch 60/100\n",
            "47/47 [==============================] - 0s 3ms/step - loss: 0.6686 - accuracy: 0.5835 - val_loss: 0.6961 - val_accuracy: 0.5481\n",
            "Epoch 61/100\n",
            "47/47 [==============================] - 0s 2ms/step - loss: 0.6684 - accuracy: 0.5835 - val_loss: 0.6961 - val_accuracy: 0.5481\n",
            "Epoch 62/100\n",
            "47/47 [==============================] - 0s 3ms/step - loss: 0.6681 - accuracy: 0.5835 - val_loss: 0.6961 - val_accuracy: 0.5385\n",
            "Epoch 63/100\n",
            "47/47 [==============================] - 0s 3ms/step - loss: 0.6679 - accuracy: 0.5835 - val_loss: 0.6962 - val_accuracy: 0.5385\n",
            "Epoch 64/100\n",
            "47/47 [==============================] - 0s 3ms/step - loss: 0.6676 - accuracy: 0.5857 - val_loss: 0.6962 - val_accuracy: 0.5385\n",
            "Epoch 65/100\n",
            "47/47 [==============================] - 0s 2ms/step - loss: 0.6674 - accuracy: 0.5857 - val_loss: 0.6963 - val_accuracy: 0.5385\n",
            "Epoch 66/100\n",
            "47/47 [==============================] - 0s 2ms/step - loss: 0.6671 - accuracy: 0.5867 - val_loss: 0.6964 - val_accuracy: 0.5385\n",
            "Epoch 67/100\n",
            "47/47 [==============================] - 0s 2ms/step - loss: 0.6669 - accuracy: 0.5910 - val_loss: 0.6965 - val_accuracy: 0.5385\n",
            "Epoch 68/100\n",
            "47/47 [==============================] - 0s 3ms/step - loss: 0.6667 - accuracy: 0.5921 - val_loss: 0.6966 - val_accuracy: 0.5385\n",
            "Epoch 69/100\n",
            "47/47 [==============================] - 0s 2ms/step - loss: 0.6664 - accuracy: 0.5921 - val_loss: 0.6967 - val_accuracy: 0.5385\n",
            "Epoch 70/100\n",
            "47/47 [==============================] - 0s 3ms/step - loss: 0.6662 - accuracy: 0.5899 - val_loss: 0.6968 - val_accuracy: 0.5385\n",
            "Epoch 71/100\n",
            "47/47 [==============================] - 0s 3ms/step - loss: 0.6660 - accuracy: 0.5878 - val_loss: 0.6969 - val_accuracy: 0.5385\n",
            "Epoch 72/100\n",
            "47/47 [==============================] - 0s 2ms/step - loss: 0.6657 - accuracy: 0.5878 - val_loss: 0.6970 - val_accuracy: 0.5385\n",
            "Epoch 73/100\n",
            "47/47 [==============================] - 0s 3ms/step - loss: 0.6655 - accuracy: 0.5889 - val_loss: 0.6972 - val_accuracy: 0.5385\n",
            "Epoch 74/100\n",
            "47/47 [==============================] - 0s 2ms/step - loss: 0.6653 - accuracy: 0.5899 - val_loss: 0.6973 - val_accuracy: 0.5385\n",
            "Epoch 75/100\n",
            "47/47 [==============================] - 0s 3ms/step - loss: 0.6650 - accuracy: 0.5910 - val_loss: 0.6975 - val_accuracy: 0.5385\n",
            "Epoch 76/100\n",
            "47/47 [==============================] - 0s 2ms/step - loss: 0.6648 - accuracy: 0.5910 - val_loss: 0.6976 - val_accuracy: 0.5385\n",
            "Epoch 77/100\n",
            "47/47 [==============================] - 0s 3ms/step - loss: 0.6646 - accuracy: 0.5931 - val_loss: 0.6978 - val_accuracy: 0.5385\n",
            "Epoch 78/100\n",
            "47/47 [==============================] - 0s 3ms/step - loss: 0.6643 - accuracy: 0.5931 - val_loss: 0.6980 - val_accuracy: 0.5385\n",
            "Epoch 79/100\n",
            "47/47 [==============================] - 0s 3ms/step - loss: 0.6641 - accuracy: 0.5953 - val_loss: 0.6982 - val_accuracy: 0.5385\n",
            "Epoch 80/100\n",
            "47/47 [==============================] - 0s 2ms/step - loss: 0.6639 - accuracy: 0.5964 - val_loss: 0.6983 - val_accuracy: 0.5385\n",
            "Epoch 81/100\n",
            "47/47 [==============================] - 0s 2ms/step - loss: 0.6636 - accuracy: 0.5964 - val_loss: 0.6985 - val_accuracy: 0.5385\n",
            "Epoch 82/100\n",
            "47/47 [==============================] - 0s 3ms/step - loss: 0.6634 - accuracy: 0.5974 - val_loss: 0.6987 - val_accuracy: 0.5385\n",
            "Epoch 83/100\n",
            "47/47 [==============================] - 0s 2ms/step - loss: 0.6632 - accuracy: 0.5985 - val_loss: 0.6990 - val_accuracy: 0.5385\n",
            "Epoch 84/100\n",
            "47/47 [==============================] - 0s 2ms/step - loss: 0.6629 - accuracy: 0.5964 - val_loss: 0.6992 - val_accuracy: 0.5385\n",
            "Epoch 85/100\n",
            "47/47 [==============================] - 0s 2ms/step - loss: 0.6627 - accuracy: 0.5964 - val_loss: 0.6994 - val_accuracy: 0.5385\n",
            "Epoch 86/100\n",
            "47/47 [==============================] - 0s 2ms/step - loss: 0.6625 - accuracy: 0.5974 - val_loss: 0.6996 - val_accuracy: 0.5385\n",
            "Epoch 87/100\n",
            "47/47 [==============================] - 0s 3ms/step - loss: 0.6622 - accuracy: 0.5964 - val_loss: 0.6999 - val_accuracy: 0.5481\n",
            "Epoch 88/100\n",
            "47/47 [==============================] - 0s 2ms/step - loss: 0.6620 - accuracy: 0.5974 - val_loss: 0.7001 - val_accuracy: 0.5481\n",
            "Epoch 89/100\n",
            "47/47 [==============================] - 0s 2ms/step - loss: 0.6618 - accuracy: 0.5996 - val_loss: 0.7004 - val_accuracy: 0.5481\n",
            "Epoch 90/100\n",
            "47/47 [==============================] - 0s 2ms/step - loss: 0.6615 - accuracy: 0.5996 - val_loss: 0.7006 - val_accuracy: 0.5481\n",
            "Epoch 91/100\n",
            "47/47 [==============================] - 0s 2ms/step - loss: 0.6613 - accuracy: 0.5974 - val_loss: 0.7009 - val_accuracy: 0.5481\n",
            "Epoch 92/100\n",
            "47/47 [==============================] - 0s 2ms/step - loss: 0.6610 - accuracy: 0.5974 - val_loss: 0.7011 - val_accuracy: 0.5481\n",
            "Epoch 93/100\n",
            "47/47 [==============================] - 0s 2ms/step - loss: 0.6608 - accuracy: 0.5974 - val_loss: 0.7014 - val_accuracy: 0.5481\n",
            "Epoch 94/100\n",
            "47/47 [==============================] - 0s 2ms/step - loss: 0.6606 - accuracy: 0.5974 - val_loss: 0.7017 - val_accuracy: 0.5481\n",
            "Epoch 95/100\n",
            "47/47 [==============================] - 0s 2ms/step - loss: 0.6603 - accuracy: 0.6006 - val_loss: 0.7020 - val_accuracy: 0.5481\n",
            "Epoch 96/100\n",
            "47/47 [==============================] - 0s 3ms/step - loss: 0.6601 - accuracy: 0.6017 - val_loss: 0.7022 - val_accuracy: 0.5577\n",
            "Epoch 97/100\n",
            "47/47 [==============================] - 0s 2ms/step - loss: 0.6598 - accuracy: 0.6028 - val_loss: 0.7025 - val_accuracy: 0.5577\n",
            "Epoch 98/100\n",
            "47/47 [==============================] - 0s 2ms/step - loss: 0.6596 - accuracy: 0.6028 - val_loss: 0.7028 - val_accuracy: 0.5577\n",
            "Epoch 99/100\n",
            "47/47 [==============================] - 0s 2ms/step - loss: 0.6594 - accuracy: 0.6039 - val_loss: 0.7031 - val_accuracy: 0.5577\n",
            "Epoch 100/100\n",
            "47/47 [==============================] - 0s 3ms/step - loss: 0.6591 - accuracy: 0.6039 - val_loss: 0.7034 - val_accuracy: 0.5577\n"
          ]
        }
      ]
    },
    {
      "cell_type": "code",
      "source": [
        "#ploting the loss of the train and val data against epoch\n",
        "\n",
        "plt.plot(history1.history[\"loss\"])\n",
        "plt.plot(history1.history[\"val_loss\"])\n",
        "plt.title(\"Model loss\")\n",
        "plt.xlabel(\"Epoch\")\n",
        "plt.ylabel(\"loss\")\n",
        "plt.legend([\"Train\",\"Validation\"])\n",
        "plt.show()"
      ],
      "metadata": {
        "colab": {
          "base_uri": "https://localhost:8080/",
          "height": 295
        },
        "id": "tfUD5nQKrv7x",
        "outputId": "1aaefaf7-f7a5-46ff-eae4-317d0cfc858d"
      },
      "execution_count": null,
      "outputs": [
        {
          "output_type": "display_data",
          "data": {
            "text/plain": [
              "<Figure size 432x288 with 1 Axes>"
            ],
            "image/png": "[encoded data removed]"
          },
          "metadata": {
            "needs_background": "light"
          }
        }
      ]
    },
    {
      "cell_type": "code",
      "source": [
        "# printing out the best accuracy and validation set .Also print the loss and accuracy on test set\n",
        "\n",
        "print(f\"Best Accuracy on training set ={max(history1.history['accuracy']) *100:.3f}%\")\n",
        "\n",
        "\n",
        "print(f\"Best Accuracy on validation set ={max(history1.history['val_accuracy']) *100 :.3f}%\")\n",
        "\n",
        "test_loss,test_acc=model1.evaluate(x_test,y_test)\n",
        "\n",
        "print(f\"The loss on the test set is {test_loss:.4f} and the accuracy is {test_acc*100:.3f}%\")\n",
        "\n",
        "\n",
        "\n",
        "\n"
      ],
      "metadata": {
        "colab": {
          "base_uri": "https://localhost:8080/"
        },
        "id": "heHk2whLr_qy",
        "outputId": "33983de1-1842-4fd0-e9b6-842c2c27a05c"
      },
      "execution_count": null,
      "outputs": [
        {
          "output_type": "stream",
          "name": "stdout",
          "text": [
            "Best Accuracy on training set =60.385%\n",
            "Best Accuracy on validation set =55.769%\n",
            "11/11 [==============================] - 0s 2ms/step - loss: 0.7170 - accuracy: 0.4870\n",
            "The loss on the test set is 0.7170 and the accuracy is 48.703%\n"
          ]
        }
      ]
    },
    {
      "cell_type": "code",
      "source": [
        "# Buiding a model with two hidden layer[4 and 2 nodes] using tanh as the activation function and using sigmoid as the  activation function of output layer\n",
        "\n",
        "model2=Sequential()\n",
        "model2.add(Dense(input_dim=x_train.shape[1],units=4,activation=\"tanh\"))\n",
        "\n",
        "model2.add(Dense(units=2,activation=\"tanh\"))\n",
        "\n",
        "model2.add(Dense(units=1,activation=\"sigmoid\"))\n",
        "\n",
        "model2.compile(metrics=[\"accuracy\"],optimizer=\"sgd\",loss=\"binary_crossentropy\")"
      ],
      "metadata": {
        "id": "lWSmHH_Fus0S"
      },
      "execution_count": null,
      "outputs": []
    },
    {
      "cell_type": "code",
      "source": [
        "# fitting the model on the train data with 100 epochs\n",
        "\n",
        "history2=model2.fit(x_train,y_train,batch_size=20,epochs=100,validation_split=0.1,shuffle=False)"
      ],
      "metadata": {
        "colab": {
          "base_uri": "https://localhost:8080/"
        },
        "id": "FKbqjc0Ixi6t",
        "outputId": "735552d6-7269-4cf9-80d2-c6deae4def6f"
      },
      "execution_count": null,
      "outputs": [
        {
          "output_type": "stream",
          "name": "stdout",
          "text": [
            "Epoch 1/100\n",
            "47/47 [==============================] - 1s 8ms/step - loss: 0.9344 - accuracy: 0.4925 - val_loss: 0.9035 - val_accuracy: 0.4904\n",
            "Epoch 2/100\n",
            "47/47 [==============================] - 0s 4ms/step - loss: 0.8815 - accuracy: 0.4957 - val_loss: 0.8571 - val_accuracy: 0.5096\n",
            "Epoch 3/100\n",
            "47/47 [==============================] - 0s 4ms/step - loss: 0.8409 - accuracy: 0.5032 - val_loss: 0.8214 - val_accuracy: 0.5000\n",
            "Epoch 4/100\n",
            "47/47 [==============================] - 0s 4ms/step - loss: 0.8096 - accuracy: 0.5107 - val_loss: 0.7938 - val_accuracy: 0.5000\n",
            "Epoch 5/100\n",
            "47/47 [==============================] - 0s 8ms/step - loss: 0.7855 - accuracy: 0.5150 - val_loss: 0.7725 - val_accuracy: 0.5096\n",
            "Epoch 6/100\n",
            "47/47 [==============================] - 0s 9ms/step - loss: 0.7667 - accuracy: 0.5182 - val_loss: 0.7560 - val_accuracy: 0.5096\n",
            "Epoch 7/100\n",
            "47/47 [==============================] - 0s 6ms/step - loss: 0.7519 - accuracy: 0.5214 - val_loss: 0.7430 - val_accuracy: 0.5192\n",
            "Epoch 8/100\n",
            "47/47 [==============================] - 0s 3ms/step - loss: 0.7403 - accuracy: 0.5321 - val_loss: 0.7329 - val_accuracy: 0.5192\n",
            "Epoch 9/100\n",
            "47/47 [==============================] - 0s 3ms/step - loss: 0.7310 - accuracy: 0.5343 - val_loss: 0.7248 - val_accuracy: 0.5288\n",
            "Epoch 10/100\n",
            "47/47 [==============================] - 0s 3ms/step - loss: 0.7234 - accuracy: 0.5418 - val_loss: 0.7183 - val_accuracy: 0.5288\n",
            "Epoch 11/100\n",
            "47/47 [==============================] - 0s 3ms/step - loss: 0.7173 - accuracy: 0.5493 - val_loss: 0.7130 - val_accuracy: 0.5481\n",
            "Epoch 12/100\n",
            "47/47 [==============================] - 0s 3ms/step - loss: 0.7122 - accuracy: 0.5535 - val_loss: 0.7088 - val_accuracy: 0.5481\n",
            "Epoch 13/100\n",
            "47/47 [==============================] - 0s 3ms/step - loss: 0.7079 - accuracy: 0.5514 - val_loss: 0.7053 - val_accuracy: 0.5673\n",
            "Epoch 14/100\n",
            "47/47 [==============================] - 0s 2ms/step - loss: 0.7043 - accuracy: 0.5589 - val_loss: 0.7024 - val_accuracy: 0.5577\n",
            "Epoch 15/100\n",
            "47/47 [==============================] - 0s 3ms/step - loss: 0.7012 - accuracy: 0.5578 - val_loss: 0.7000 - val_accuracy: 0.5577\n",
            "Epoch 16/100\n",
            "47/47 [==============================] - 0s 3ms/step - loss: 0.6985 - accuracy: 0.5610 - val_loss: 0.6979 - val_accuracy: 0.5481\n",
            "Epoch 17/100\n",
            "47/47 [==============================] - 0s 3ms/step - loss: 0.6962 - accuracy: 0.5642 - val_loss: 0.6962 - val_accuracy: 0.5481\n",
            "Epoch 18/100\n",
            "47/47 [==============================] - 0s 2ms/step - loss: 0.6942 - accuracy: 0.5642 - val_loss: 0.6948 - val_accuracy: 0.5481\n",
            "Epoch 19/100\n",
            "47/47 [==============================] - 0s 3ms/step - loss: 0.6924 - accuracy: 0.5707 - val_loss: 0.6936 - val_accuracy: 0.5481\n",
            "Epoch 20/100\n",
            "47/47 [==============================] - 0s 3ms/step - loss: 0.6908 - accuracy: 0.5707 - val_loss: 0.6925 - val_accuracy: 0.5577\n",
            "Epoch 21/100\n",
            "47/47 [==============================] - 0s 3ms/step - loss: 0.6894 - accuracy: 0.5717 - val_loss: 0.6916 - val_accuracy: 0.5577\n",
            "Epoch 22/100\n",
            "47/47 [==============================] - 0s 2ms/step - loss: 0.6881 - accuracy: 0.5749 - val_loss: 0.6908 - val_accuracy: 0.5385\n",
            "Epoch 23/100\n",
            "47/47 [==============================] - 0s 3ms/step - loss: 0.6869 - accuracy: 0.5760 - val_loss: 0.6901 - val_accuracy: 0.5385\n",
            "Epoch 24/100\n",
            "47/47 [==============================] - 0s 3ms/step - loss: 0.6858 - accuracy: 0.5717 - val_loss: 0.6895 - val_accuracy: 0.5192\n",
            "Epoch 25/100\n",
            "47/47 [==============================] - 0s 2ms/step - loss: 0.6849 - accuracy: 0.5707 - val_loss: 0.6890 - val_accuracy: 0.5192\n",
            "Epoch 26/100\n",
            "47/47 [==============================] - 0s 2ms/step - loss: 0.6839 - accuracy: 0.5707 - val_loss: 0.6885 - val_accuracy: 0.5192\n",
            "Epoch 27/100\n",
            "47/47 [==============================] - 0s 3ms/step - loss: 0.6831 - accuracy: 0.5653 - val_loss: 0.6881 - val_accuracy: 0.5192\n",
            "Epoch 28/100\n",
            "47/47 [==============================] - 0s 3ms/step - loss: 0.6823 - accuracy: 0.5621 - val_loss: 0.6877 - val_accuracy: 0.5192\n",
            "Epoch 29/100\n",
            "47/47 [==============================] - 0s 2ms/step - loss: 0.6816 - accuracy: 0.5653 - val_loss: 0.6873 - val_accuracy: 0.5192\n",
            "Epoch 30/100\n",
            "47/47 [==============================] - 0s 2ms/step - loss: 0.6809 - accuracy: 0.5642 - val_loss: 0.6870 - val_accuracy: 0.5288\n",
            "Epoch 31/100\n",
            "47/47 [==============================] - 0s 3ms/step - loss: 0.6802 - accuracy: 0.5696 - val_loss: 0.6867 - val_accuracy: 0.5288\n",
            "Epoch 32/100\n",
            "47/47 [==============================] - 0s 2ms/step - loss: 0.6796 - accuracy: 0.5717 - val_loss: 0.6864 - val_accuracy: 0.5385\n",
            "Epoch 33/100\n",
            "47/47 [==============================] - 0s 3ms/step - loss: 0.6790 - accuracy: 0.5728 - val_loss: 0.6862 - val_accuracy: 0.5385\n",
            "Epoch 34/100\n",
            "47/47 [==============================] - 0s 2ms/step - loss: 0.6784 - accuracy: 0.5728 - val_loss: 0.6860 - val_accuracy: 0.5385\n",
            "Epoch 35/100\n",
            "47/47 [==============================] - 0s 3ms/step - loss: 0.6779 - accuracy: 0.5739 - val_loss: 0.6857 - val_accuracy: 0.5385\n",
            "Epoch 36/100\n",
            "47/47 [==============================] - 0s 3ms/step - loss: 0.6774 - accuracy: 0.5760 - val_loss: 0.6855 - val_accuracy: 0.5385\n",
            "Epoch 37/100\n",
            "47/47 [==============================] - 0s 3ms/step - loss: 0.6769 - accuracy: 0.5782 - val_loss: 0.6854 - val_accuracy: 0.5385\n",
            "Epoch 38/100\n",
            "47/47 [==============================] - 0s 3ms/step - loss: 0.6764 - accuracy: 0.5814 - val_loss: 0.6852 - val_accuracy: 0.5385\n",
            "Epoch 39/100\n",
            "47/47 [==============================] - 0s 3ms/step - loss: 0.6759 - accuracy: 0.5835 - val_loss: 0.6850 - val_accuracy: 0.5481\n",
            "Epoch 40/100\n",
            "47/47 [==============================] - 0s 3ms/step - loss: 0.6755 - accuracy: 0.5824 - val_loss: 0.6848 - val_accuracy: 0.5481\n",
            "Epoch 41/100\n",
            "47/47 [==============================] - 0s 3ms/step - loss: 0.6750 - accuracy: 0.5824 - val_loss: 0.6847 - val_accuracy: 0.5481\n",
            "Epoch 42/100\n",
            "47/47 [==============================] - 0s 3ms/step - loss: 0.6746 - accuracy: 0.5846 - val_loss: 0.6845 - val_accuracy: 0.5481\n",
            "Epoch 43/100\n",
            "47/47 [==============================] - 0s 2ms/step - loss: 0.6742 - accuracy: 0.5867 - val_loss: 0.6844 - val_accuracy: 0.5577\n",
            "Epoch 44/100\n",
            "47/47 [==============================] - 0s 3ms/step - loss: 0.6738 - accuracy: 0.5835 - val_loss: 0.6843 - val_accuracy: 0.5577\n",
            "Epoch 45/100\n",
            "47/47 [==============================] - 0s 3ms/step - loss: 0.6734 - accuracy: 0.5846 - val_loss: 0.6841 - val_accuracy: 0.5481\n",
            "Epoch 46/100\n",
            "47/47 [==============================] - 0s 2ms/step - loss: 0.6730 - accuracy: 0.5889 - val_loss: 0.6840 - val_accuracy: 0.5481\n",
            "Epoch 47/100\n",
            "47/47 [==============================] - 0s 2ms/step - loss: 0.6726 - accuracy: 0.5899 - val_loss: 0.6839 - val_accuracy: 0.5481\n",
            "Epoch 48/100\n",
            "47/47 [==============================] - 0s 2ms/step - loss: 0.6723 - accuracy: 0.5910 - val_loss: 0.6838 - val_accuracy: 0.5481\n",
            "Epoch 49/100\n",
            "47/47 [==============================] - 0s 2ms/step - loss: 0.6719 - accuracy: 0.5910 - val_loss: 0.6837 - val_accuracy: 0.5481\n",
            "Epoch 50/100\n",
            "47/47 [==============================] - 0s 3ms/step - loss: 0.6715 - accuracy: 0.5942 - val_loss: 0.6836 - val_accuracy: 0.5481\n",
            "Epoch 51/100\n",
            "47/47 [==============================] - 0s 3ms/step - loss: 0.6712 - accuracy: 0.5931 - val_loss: 0.6835 - val_accuracy: 0.5481\n",
            "Epoch 52/100\n",
            "47/47 [==============================] - 0s 3ms/step - loss: 0.6708 - accuracy: 0.5921 - val_loss: 0.6834 - val_accuracy: 0.5481\n",
            "Epoch 53/100\n",
            "47/47 [==============================] - 0s 2ms/step - loss: 0.6705 - accuracy: 0.5910 - val_loss: 0.6833 - val_accuracy: 0.5481\n",
            "Epoch 54/100\n",
            "47/47 [==============================] - 0s 2ms/step - loss: 0.6701 - accuracy: 0.5899 - val_loss: 0.6832 - val_accuracy: 0.5481\n",
            "Epoch 55/100\n",
            "47/47 [==============================] - 0s 3ms/step - loss: 0.6698 - accuracy: 0.5889 - val_loss: 0.6831 - val_accuracy: 0.5481\n",
            "Epoch 56/100\n",
            "47/47 [==============================] - 0s 3ms/step - loss: 0.6695 - accuracy: 0.5921 - val_loss: 0.6831 - val_accuracy: 0.5481\n",
            "Epoch 57/100\n",
            "47/47 [==============================] - 0s 3ms/step - loss: 0.6691 - accuracy: 0.5921 - val_loss: 0.6830 - val_accuracy: 0.5481\n",
            "Epoch 58/100\n",
            "47/47 [==============================] - 0s 2ms/step - loss: 0.6688 - accuracy: 0.5910 - val_loss: 0.6829 - val_accuracy: 0.5481\n",
            "Epoch 59/100\n",
            "47/47 [==============================] - 0s 3ms/step - loss: 0.6685 - accuracy: 0.5921 - val_loss: 0.6828 - val_accuracy: 0.5481\n",
            "Epoch 60/100\n",
            "47/47 [==============================] - 0s 2ms/step - loss: 0.6682 - accuracy: 0.5931 - val_loss: 0.6828 - val_accuracy: 0.5577\n",
            "Epoch 61/100\n",
            "47/47 [==============================] - 0s 2ms/step - loss: 0.6679 - accuracy: 0.5974 - val_loss: 0.6827 - val_accuracy: 0.5577\n",
            "Epoch 62/100\n",
            "47/47 [==============================] - 0s 3ms/step - loss: 0.6676 - accuracy: 0.5985 - val_loss: 0.6826 - val_accuracy: 0.5481\n",
            "Epoch 63/100\n",
            "47/47 [==============================] - 0s 3ms/step - loss: 0.6673 - accuracy: 0.5985 - val_loss: 0.6826 - val_accuracy: 0.5481\n",
            "Epoch 64/100\n",
            "47/47 [==============================] - 0s 2ms/step - loss: 0.6670 - accuracy: 0.6017 - val_loss: 0.6825 - val_accuracy: 0.5481\n",
            "Epoch 65/100\n",
            "47/47 [==============================] - 0s 3ms/step - loss: 0.6667 - accuracy: 0.6028 - val_loss: 0.6825 - val_accuracy: 0.5481\n",
            "Epoch 66/100\n",
            "47/47 [==============================] - 0s 3ms/step - loss: 0.6664 - accuracy: 0.6049 - val_loss: 0.6824 - val_accuracy: 0.5577\n",
            "Epoch 67/100\n",
            "47/47 [==============================] - 0s 3ms/step - loss: 0.6661 - accuracy: 0.6049 - val_loss: 0.6824 - val_accuracy: 0.5577\n",
            "Epoch 68/100\n",
            "47/47 [==============================] - 0s 3ms/step - loss: 0.6658 - accuracy: 0.6039 - val_loss: 0.6824 - val_accuracy: 0.5577\n",
            "Epoch 69/100\n",
            "47/47 [==============================] - 0s 3ms/step - loss: 0.6655 - accuracy: 0.6049 - val_loss: 0.6823 - val_accuracy: 0.5673\n",
            "Epoch 70/100\n",
            "47/47 [==============================] - 0s 3ms/step - loss: 0.6652 - accuracy: 0.6049 - val_loss: 0.6823 - val_accuracy: 0.5673\n",
            "Epoch 71/100\n",
            "47/47 [==============================] - 0s 3ms/step - loss: 0.6649 - accuracy: 0.6049 - val_loss: 0.6823 - val_accuracy: 0.5673\n",
            "Epoch 72/100\n",
            "47/47 [==============================] - 0s 3ms/step - loss: 0.6646 - accuracy: 0.6049 - val_loss: 0.6822 - val_accuracy: 0.5673\n",
            "Epoch 73/100\n",
            "47/47 [==============================] - 0s 2ms/step - loss: 0.6643 - accuracy: 0.6049 - val_loss: 0.6822 - val_accuracy: 0.5673\n",
            "Epoch 74/100\n",
            "47/47 [==============================] - 0s 2ms/step - loss: 0.6640 - accuracy: 0.6039 - val_loss: 0.6822 - val_accuracy: 0.5673\n",
            "Epoch 75/100\n",
            "47/47 [==============================] - 0s 2ms/step - loss: 0.6638 - accuracy: 0.6049 - val_loss: 0.6822 - val_accuracy: 0.5673\n",
            "Epoch 76/100\n",
            "47/47 [==============================] - 0s 3ms/step - loss: 0.6635 - accuracy: 0.6028 - val_loss: 0.6822 - val_accuracy: 0.5673\n",
            "Epoch 77/100\n",
            "47/47 [==============================] - 0s 3ms/step - loss: 0.6632 - accuracy: 0.6028 - val_loss: 0.6822 - val_accuracy: 0.5673\n",
            "Epoch 78/100\n",
            "47/47 [==============================] - 0s 2ms/step - loss: 0.6629 - accuracy: 0.6039 - val_loss: 0.6822 - val_accuracy: 0.5673\n",
            "Epoch 79/100\n",
            "47/47 [==============================] - 0s 2ms/step - loss: 0.6627 - accuracy: 0.6049 - val_loss: 0.6822 - val_accuracy: 0.5673\n",
            "Epoch 80/100\n",
            "47/47 [==============================] - 0s 2ms/step - loss: 0.6624 - accuracy: 0.6060 - val_loss: 0.6822 - val_accuracy: 0.5673\n",
            "Epoch 81/100\n",
            "47/47 [==============================] - 0s 2ms/step - loss: 0.6621 - accuracy: 0.6060 - val_loss: 0.6822 - val_accuracy: 0.5577\n",
            "Epoch 82/100\n",
            "47/47 [==============================] - 0s 2ms/step - loss: 0.6619 - accuracy: 0.6071 - val_loss: 0.6822 - val_accuracy: 0.5481\n",
            "Epoch 83/100\n",
            "47/47 [==============================] - 0s 3ms/step - loss: 0.6616 - accuracy: 0.6081 - val_loss: 0.6822 - val_accuracy: 0.5385\n",
            "Epoch 84/100\n",
            "47/47 [==============================] - 0s 3ms/step - loss: 0.6613 - accuracy: 0.6081 - val_loss: 0.6822 - val_accuracy: 0.5385\n",
            "Epoch 85/100\n",
            "47/47 [==============================] - 0s 2ms/step - loss: 0.6611 - accuracy: 0.6081 - val_loss: 0.6823 - val_accuracy: 0.5481\n",
            "Epoch 86/100\n",
            "47/47 [==============================] - 0s 2ms/step - loss: 0.6608 - accuracy: 0.6092 - val_loss: 0.6823 - val_accuracy: 0.5481\n",
            "Epoch 87/100\n",
            "47/47 [==============================] - 0s 3ms/step - loss: 0.6606 - accuracy: 0.6081 - val_loss: 0.6823 - val_accuracy: 0.5481\n",
            "Epoch 88/100\n",
            "47/47 [==============================] - 0s 2ms/step - loss: 0.6603 - accuracy: 0.6103 - val_loss: 0.6823 - val_accuracy: 0.5577\n",
            "Epoch 89/100\n",
            "47/47 [==============================] - 0s 3ms/step - loss: 0.6600 - accuracy: 0.6124 - val_loss: 0.6824 - val_accuracy: 0.5577\n",
            "Epoch 90/100\n",
            "47/47 [==============================] - 0s 3ms/step - loss: 0.6598 - accuracy: 0.6113 - val_loss: 0.6824 - val_accuracy: 0.5577\n",
            "Epoch 91/100\n",
            "47/47 [==============================] - 0s 3ms/step - loss: 0.6595 - accuracy: 0.6113 - val_loss: 0.6825 - val_accuracy: 0.5577\n",
            "Epoch 92/100\n",
            "47/47 [==============================] - 0s 3ms/step - loss: 0.6593 - accuracy: 0.6103 - val_loss: 0.6825 - val_accuracy: 0.5577\n",
            "Epoch 93/100\n",
            "47/47 [==============================] - 0s 3ms/step - loss: 0.6590 - accuracy: 0.6124 - val_loss: 0.6826 - val_accuracy: 0.5577\n",
            "Epoch 94/100\n",
            "47/47 [==============================] - 0s 3ms/step - loss: 0.6588 - accuracy: 0.6113 - val_loss: 0.6826 - val_accuracy: 0.5577\n",
            "Epoch 95/100\n",
            "47/47 [==============================] - 0s 3ms/step - loss: 0.6585 - accuracy: 0.6146 - val_loss: 0.6827 - val_accuracy: 0.5577\n",
            "Epoch 96/100\n",
            "47/47 [==============================] - 0s 2ms/step - loss: 0.6583 - accuracy: 0.6146 - val_loss: 0.6828 - val_accuracy: 0.5577\n",
            "Epoch 97/100\n",
            "47/47 [==============================] - 0s 3ms/step - loss: 0.6580 - accuracy: 0.6156 - val_loss: 0.6828 - val_accuracy: 0.5577\n",
            "Epoch 98/100\n",
            "47/47 [==============================] - 0s 2ms/step - loss: 0.6578 - accuracy: 0.6156 - val_loss: 0.6829 - val_accuracy: 0.5577\n",
            "Epoch 99/100\n",
            "47/47 [==============================] - 0s 3ms/step - loss: 0.6576 - accuracy: 0.6178 - val_loss: 0.6830 - val_accuracy: 0.5577\n",
            "Epoch 100/100\n",
            "47/47 [==============================] - 0s 3ms/step - loss: 0.6573 - accuracy: 0.6156 - val_loss: 0.6831 - val_accuracy: 0.5577\n"
          ]
        }
      ]
    },
    {
      "cell_type": "code",
      "source": [
        "#ploting the loss of the train and val data against epoch\n",
        "\n",
        "plt.plot(history2.history[\"loss\"])\n",
        "plt.plot(history2.history[\"val_loss\"])\n",
        "plt.title(\"Model loss\")\n",
        "plt.xlabel(\"Epoch\")\n",
        "plt.ylabel(\"loss\")\n",
        "plt.legend([\"Train\",\"Validation\"])\n",
        "plt.show()"
      ],
      "metadata": {
        "colab": {
          "base_uri": "https://localhost:8080/",
          "height": 295
        },
        "id": "p3XbR7sixw2R",
        "outputId": "246ef8ce-fd07-4052-99be-a4147dc7f802"
      },
      "execution_count": null,
      "outputs": [
        {
          "output_type": "display_data",
          "data": {
            "text/plain": [
              "<Figure size 432x288 with 1 Axes>"
            ],
            "image/png": "[encoded data removed]"
          },
          "metadata": {
            "needs_background": "light"
          }
        }
      ]
    },
    {
      "cell_type": "code",
      "source": [
        "# printing out the best accuracy and validation set .Also print the loss and accuracy on test set\n",
        "\n",
        "print(f\"Best Accuracy on training set ={max(history1.history['accuracy']) *100:.3f}%\")\n",
        "\n",
        "\n",
        "print(f\"Best Accuracy on validation set ={max(history1.history['val_accuracy']) *100 :.3f}%\")\n",
        "\n",
        "test_loss,test_acc=model1.evaluate(x_test,y_test)\n",
        "\n",
        "print(f\"The loss on the test set is {test_loss:.4f} and the accuracy is {test_acc*100:.3f}%\")"
      ],
      "metadata": {
        "colab": {
          "base_uri": "https://localhost:8080/"
        },
        "id": "NNdT1V9TyMcE",
        "outputId": "5e1c1cc5-509e-41c3-91e1-68c0238aa645"
      },
      "execution_count": null,
      "outputs": [
        {
          "output_type": "stream",
          "name": "stdout",
          "text": [
            "Best Accuracy on training set =60.385%\n",
            "Best Accuracy on validation set =55.769%\n",
            "11/11 [==============================] - 0s 3ms/step - loss: 0.7170 - accuracy: 0.4870\n",
            "The loss on the test set is 0.7170 and the accuracy is 48.703%\n"
          ]
        }
      ]
    },
    {
      "cell_type": "markdown",
      "source": [
        "# CONCLUSION\n",
        "\n",
        "Both the model were atleast good on the train and validation dataset but doing bad on the test data ,The is what is called overfitting and we can confirm that we don't need to add more layers to the model as it will keep doing bad on the unseen data"
      ],
      "metadata": {
        "id": "mgy7WOi6yqpi"
      }
    },
    {
      "cell_type": "code",
      "source": [
        ""
      ],
      "metadata": {
        "id": "EUoXXyuYygMD"
      },
      "execution_count": null,
      "outputs": []
    }
  ]
}